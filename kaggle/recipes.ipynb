{
 "cells": [
  {
   "cell_type": "code",
   "execution_count": 1,
   "metadata": {
    "collapsed": true
   },
   "outputs": [],
   "source": [
    "import numpy as np\n",
    "import pandas as pd\n",
    "import sklearn as sk"
   ]
  },
  {
   "cell_type": "code",
   "execution_count": 3,
   "metadata": {
    "collapsed": false
   },
   "outputs": [],
   "source": [
    "train = pd.read_json(\"data/train.json\")"
   ]
  },
  {
   "cell_type": "code",
   "execution_count": 72,
   "metadata": {
    "collapsed": false
   },
   "outputs": [
    {
     "data": {
      "text/html": [
       "<div>\n",
       "<table border=\"1\" class=\"dataframe\">\n",
       "  <thead>\n",
       "    <tr style=\"text-align: right;\">\n",
       "      <th></th>\n",
       "      <th>cuisine</th>\n",
       "      <th>id</th>\n",
       "      <th>ingredients</th>\n",
       "    </tr>\n",
       "  </thead>\n",
       "  <tbody>\n",
       "    <tr>\n",
       "      <th>0</th>\n",
       "      <td>greek</td>\n",
       "      <td>10259</td>\n",
       "      <td>[romaine lettuce, black olives, grape tomatoes...</td>\n",
       "    </tr>\n",
       "    <tr>\n",
       "      <th>1</th>\n",
       "      <td>southern_us</td>\n",
       "      <td>25693</td>\n",
       "      <td>[plain flour, ground pepper, salt, tomatoes, g...</td>\n",
       "    </tr>\n",
       "    <tr>\n",
       "      <th>2</th>\n",
       "      <td>filipino</td>\n",
       "      <td>20130</td>\n",
       "      <td>[eggs, pepper, salt, mayonaise, cooking oil, g...</td>\n",
       "    </tr>\n",
       "    <tr>\n",
       "      <th>3</th>\n",
       "      <td>indian</td>\n",
       "      <td>22213</td>\n",
       "      <td>[water, vegetable oil, wheat, salt]</td>\n",
       "    </tr>\n",
       "    <tr>\n",
       "      <th>4</th>\n",
       "      <td>indian</td>\n",
       "      <td>13162</td>\n",
       "      <td>[black pepper, shallots, cornflour, cayenne pe...</td>\n",
       "    </tr>\n",
       "  </tbody>\n",
       "</table>\n",
       "</div>"
      ],
      "text/plain": [
       "       cuisine     id                                        ingredients\n",
       "0        greek  10259  [romaine lettuce, black olives, grape tomatoes...\n",
       "1  southern_us  25693  [plain flour, ground pepper, salt, tomatoes, g...\n",
       "2     filipino  20130  [eggs, pepper, salt, mayonaise, cooking oil, g...\n",
       "3       indian  22213                [water, vegetable oil, wheat, salt]\n",
       "4       indian  13162  [black pepper, shallots, cornflour, cayenne pe..."
      ]
     },
     "execution_count": 72,
     "metadata": {},
     "output_type": "execute_result"
    }
   ],
   "source": [
    "train.head()"
   ]
  },
  {
   "cell_type": "code",
   "execution_count": 73,
   "metadata": {
    "collapsed": false
   },
   "outputs": [
    {
     "data": {
      "text/plain": [
       "(39774, 3)"
      ]
     },
     "execution_count": 73,
     "metadata": {},
     "output_type": "execute_result"
    }
   ],
   "source": [
    "train.shape"
   ]
  },
  {
   "cell_type": "code",
   "execution_count": 74,
   "metadata": {
    "collapsed": false
   },
   "outputs": [
    {
     "data": {
      "text/plain": [
       "array([u'greek', u'southern_us', u'filipino', u'indian', u'jamaican',\n",
       "       u'spanish', u'italian', u'mexican', u'chinese', u'british', u'thai',\n",
       "       u'vietnamese', u'cajun_creole', u'brazilian', u'french',\n",
       "       u'japanese', u'irish', u'korean', u'moroccan', u'russian'], dtype=object)"
      ]
     },
     "execution_count": 74,
     "metadata": {},
     "output_type": "execute_result"
    }
   ],
   "source": [
    "# 20 different cuisines represented here\n",
    "pd.unique(train.cuisine.ravel())"
   ]
  },
  {
   "cell_type": "code",
   "execution_count": 75,
   "metadata": {
    "collapsed": false
   },
   "outputs": [],
   "source": [
    "from sklearn import cross_validation\n",
    "\n",
    "train_features, test_features, train_target, test_target = \\\n",
    "    cross_validation.train_test_split(\n",
    "        train.ingredients, \n",
    "        train.cuisine, \n",
    "        test_size=0.2,  # 80/20 split for training and test data\n",
    "        random_state=10274)"
   ]
  },
  {
   "cell_type": "code",
   "execution_count": 82,
   "metadata": {
    "collapsed": false
   },
   "outputs": [
    {
     "data": {
      "text/plain": [
       "(31819,)"
      ]
     },
     "execution_count": 82,
     "metadata": {},
     "output_type": "execute_result"
    }
   ],
   "source": [
    "train_features.shape"
   ]
  },
  {
   "cell_type": "code",
   "execution_count": 83,
   "metadata": {
    "collapsed": false
   },
   "outputs": [
    {
     "data": {
      "text/plain": [
       "(7955,)"
      ]
     },
     "execution_count": 83,
     "metadata": {},
     "output_type": "execute_result"
    }
   ],
   "source": [
    "test_features.shape"
   ]
  },
  {
   "cell_type": "code",
   "execution_count": 76,
   "metadata": {
    "collapsed": false
   },
   "outputs": [],
   "source": [
    "import re\n",
    "\n",
    "# This turns a list of ingredients into a cleaned, single string.\n",
    "# ex: ['Chicken', 'Ranch! Dressing'] => 'chicken ranch dressing'\n",
    "def clean_stringify(ingredients):\n",
    "    return re.sub(\n",
    "        \"[^- a-zA-Z]\",\"\",\n",
    "        ' '.join(ingredients)).strip()\n",
    "\n",
    "# This turns a list of ingredients into a clean list of ingredients.\n",
    "# ex: ['Chicken', 'Ranch! Dressing'] => ['chicken', 'ranch dressing']\n",
    "def _process(item):\n",
    "    terms = re.sub(\"[^- a-zA-Z]\", \"\", item).strip().lower().split()\n",
    "    return ' '.join(terms)\n",
    "\n",
    "def clean(ingredients):\n",
    "    return [_process(x) for x in ingredients]"
   ]
  },
  {
   "cell_type": "code",
   "execution_count": 77,
   "metadata": {
    "collapsed": false
   },
   "outputs": [
    {
     "data": {
      "text/plain": [
       "0.72030169704588309"
      ]
     },
     "execution_count": 77,
     "metadata": {},
     "output_type": "execute_result"
    }
   ],
   "source": [
    "import sklearn.naive_bayes as bayes\n",
    "from sklearn import metrics\n",
    "from sklearn.feature_extraction.text import CountVectorizer\n",
    "\n",
    "# Get a vanilla count vectorizer\n",
    "vectorizer = CountVectorizer()\n",
    "\n",
    "# tm stands for Term Matrix. This is making a terms matrix.\n",
    "tm_train = vectorizer.fit_transform(train_features.apply(clean_stringify))\n",
    "\n",
    "# Fit a model using naive bayes and the training term matrix and target labels\n",
    "model = bayes.MultinomialNB(alpha=0.1).fit(tm_train, train_target)\n",
    "\n",
    "# We use transform instead of fit_transform here because we just care about the fitting\n",
    "# (the terms in the terms matrix) that we put together on the training data. This is\n",
    "# all we can predict on, so this is all we want to project the test data into.\n",
    "tm_test = vectorizer.transform(test_features.apply(clean_stringify)).toarray()\n",
    "predicted = model.predict(tm_test)\n",
    "metrics.accuracy_score(test_target, predicted)"
   ]
  },
  {
   "cell_type": "code",
   "execution_count": 81,
   "metadata": {
    "collapsed": false
   },
   "outputs": [
    {
     "data": {
      "text/plain": [
       "[(u'salt', 14442),\n",
       " (u'olive oil', 6341),\n",
       " (u'onions', 6317),\n",
       " (u'water', 6016),\n",
       " (u'garlic', 5883),\n",
       " (u'sugar', 5185),\n",
       " (u'garlic cloves', 5014),\n",
       " (u'butter', 3896),\n",
       " (u'ground black pepper', 3792),\n",
       " (u'all-purpose flour', 3704)]"
      ]
     },
     "execution_count": 81,
     "metadata": {},
     "output_type": "execute_result"
    }
   ],
   "source": [
    "import operator\n",
    "\n",
    "# Let's take a look at what the most common terms are\n",
    "counts = zip(vectorizer.get_feature_names(),\n",
    "            np.asarray(tm_train.sum(axis=0)).ravel())\n",
    "\n",
    "sorted(counts, key=operator.itemgetter(1), reverse=True)[:10]"
   ]
  },
  {
   "cell_type": "code",
   "execution_count": 79,
   "metadata": {
    "collapsed": false
   },
   "outputs": [
    {
     "data": {
      "text/plain": [
       "0.72067881835323699"
      ]
     },
     "execution_count": 79,
     "metadata": {},
     "output_type": "execute_result"
    }
   ],
   "source": [
    "# Let's introduce some stop words\n",
    "vectorizer = CountVectorizer(\n",
    "    stop_words=[\n",
    "        'added', 'all', 'assorted',\n",
    "        'cooking', 'oz', 'organic', 'old', 'purpose', 'low'\n",
    "        'spice'\n",
    "    ]\n",
    ")\n",
    "tm_train = vectorizer.fit_transform(train_features.apply(clean_stringify))\n",
    "model = bayes.MultinomialNB(alpha=0.1).fit(tm_train, train_target)\n",
    "tm_test = vectorizer.transform(test_features.apply(clean_stringify))\n",
    "predicted = model.predict(tm_test)\n",
    "metrics.accuracy_score(test_target, predicted)"
   ]
  },
  {
   "cell_type": "code",
   "execution_count": 80,
   "metadata": {
    "collapsed": false
   },
   "outputs": [
    {
     "data": {
      "text/plain": [
       "0.7561282212445003"
      ]
     },
     "execution_count": 80,
     "metadata": {},
     "output_type": "execute_result"
    }
   ],
   "source": [
    "# Let's make the terms for the term matrix not individual words, but recipe lines\n",
    "# as a whole. So the terms for an ingredient 'zesty italian dressing' in this case wouldn't \n",
    "# be 'zesty', 'italian', and 'dressing', but rather a single term 'zesty italian dressing'\n",
    "#\n",
    "# This is achieved using lambda x: x for the analyzer, telling it to just take the ingredients\n",
    "# list and use that directly as the terms that are pulled out in analysis.\n",
    "vectorizer = CountVectorizer(analyzer=lambda x: x)\n",
    "tm_train = vectorizer.fit_transform(train_features.apply(clean))\n",
    "model = bayes.MultinomialNB(alpha=0.1).fit(tm_train, train_target)\n",
    "tm_test = vectorizer.transform(test_features.apply(clean))\n",
    "predicted = model.predict(tm_test)\n",
    "metrics.accuracy_score(test_target, predicted)"
   ]
  },
  {
   "cell_type": "code",
   "execution_count": null,
   "metadata": {
    "collapsed": true
   },
   "outputs": [],
   "source": []
  }
 ],
 "metadata": {
  "kernelspec": {
   "display_name": "Python 2",
   "language": "python",
   "name": "python2"
  },
  "language_info": {
   "codemirror_mode": {
    "name": "ipython",
    "version": 2
   },
   "file_extension": ".py",
   "mimetype": "text/x-python",
   "name": "python",
   "nbconvert_exporter": "python",
   "pygments_lexer": "ipython2",
   "version": "2.7.10"
  }
 },
 "nbformat": 4,
 "nbformat_minor": 0
}
